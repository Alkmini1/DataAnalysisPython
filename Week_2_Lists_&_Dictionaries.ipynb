{
 "cells": [
  {
   "cell_type": "markdown",
   "metadata": {},
   "source": [
    "##  Εβδομάδα 2 - Λίστες και Λεξικά (lists and dictionaries)\n",
    "\n",
    "**Θεωρία** \n",
    "\n",
    "Τα λεξικά είναι ένας γενικευμένος σύνθετος τύπος όπως οι λίστες, αλλάχωρίς διάταξη (η οποία υπάρχει στις λίστες) και άρα στα λεξικά\n",
    "δεν ορίζουμε το 1ο , 2ο, κλπ. στοιχείο τους. Εφόσον, λοιπόν, δεν υπάρχει διάταξη, θα πρέπει να γενικεύσουμε τον τρόπο επιλογής των αντικειμένων μέσα στα λεξικά.\n",
    "\n",
    "Ο τρόπος αυτός είναι η χρήση του κλειδιού, το οποίο είναι ένας δείκτης γενικού τύπου και άρα κάθε στοιχείο ενός λεξικού έχει δύο μέρη, το κλειδί (`key`) και την τιμή (`value`) του στοιχείου.\n",
    "\n",
    "Αυτή η δυνατότητα αντιστοίχισης (κλειδί–τιμή) είναι σε ευρεία χρήση σε πληροφορικά συστήματα εκτός της Python, όπως για παράδειγμα στις βάσεις δεδομένων, οι οποίες προσφέρουν την αποθήκευση και ανάσυρση πληροφορίας βάσει κλειδιών. \n",
    "\n",
    "**Σύνοψη**\n",
    "\n",
    "Τα λεξικά είναι μία δομή δεδομένων.  Μία λέξη-κλειδί (`key`) οδηγεί σε μία πληροφορία. \n",
    "\n",
    "Το λεξικό αποτελείται από μία σειρά λέξεις-κλειδιά (`keys`) το καθένα από τα οποία συνδέεται με μία αντίστοιχη πληροφορία (`object`). \n",
    "\n",
    "Ένα λεξικό ορίζεται με τη βοήθεια αγκίστων { }, ανάμεσα στα οποία βάζουμε όλες τις εγγραφές.\n",
    "\n",
    "Μπορούμε να βρούμε μία εγγραφή δίνοντας την αντίστοιχη λέξη-κλειδί σε ορθογώνιες παρενθέσεις (όπως στις λίστες και συμβολοσειρές).\n"
   ]
  },
  {
   "cell_type": "code",
   "execution_count": 1,
   "metadata": {},
   "outputs": [
    {
     "name": "stdout",
     "output_type": "stream",
     "text": [
      "Exo enan filo poy to onoma tou einai Dimitris\n"
     ]
    }
   ],
   "source": [
    "friend_name = \"Dimitris\"\n",
    "friend_home = \"Volos\"\n",
    "friend_age = 33\n",
    "\n",
    "print(\"Exo enan filo poy to onoma tou einai\", friend_name)\n"
   ]
  },
  {
   "cell_type": "code",
   "execution_count": 4,
   "metadata": {},
   "outputs": [
    {
     "name": "stdout",
     "output_type": "stream",
     "text": [
      "Kai h poli tou einai o Volos\n"
     ]
    }
   ],
   "source": [
    "print(\"Kai h poli tou einai o\", friend_home)"
   ]
  },
  {
   "cell_type": "code",
   "execution_count": 5,
   "metadata": {},
   "outputs": [
    {
     "name": "stdout",
     "output_type": "stream",
     "text": [
      "kai einai 33 xronwn\n"
     ]
    }
   ],
   "source": [
    "print(\"kai einai\", friend_age, \"xronwn\")"
   ]
  },
  {
   "cell_type": "markdown",
   "metadata": {},
   "source": [
    "Μπορούμε να προσθέσουμε εγγραφές στο λεξικό."
   ]
  },
  {
   "cell_type": "code",
   "execution_count": 6,
   "metadata": {},
   "outputs": [],
   "source": [
    "myself = {\n",
    "  'name': 'Kostas',\n",
    "  'age': 48,\n",
    "  'home': 'Athens'\n",
    "}\n",
    "\n",
    "friend = {\n",
    "  'name': 'Nikos',\n",
    "  'age': 43,\n",
    "  'home': 'Lamia'\n",
    "}\n"
   ]
  },
  {
   "cell_type": "markdown",
   "metadata": {},
   "source": [
    "Δεν επιτρέπονται περισσότερες από μία εγγραφές για κάθε `key`.\n",
    "\n",
    "Η λέξη κλειδί πρέπει να είναι ένας μη-μεταλλάξιμος τύπος (`str`, `int` κλπ). Ώστε, δεν μπορεί να είναι λίστα."
   ]
  },
  {
   "cell_type": "code",
   "execution_count": 7,
   "metadata": {},
   "outputs": [
    {
     "name": "stdout",
     "output_type": "stream",
     "text": [
      "{'name': 'Kostas', 'age': 48, 'home': 'Athens'}\n"
     ]
    }
   ],
   "source": [
    "print(myself)"
   ]
  },
  {
   "cell_type": "code",
   "execution_count": 8,
   "metadata": {},
   "outputs": [
    {
     "name": "stdout",
     "output_type": "stream",
     "text": [
      "Kostas\n"
     ]
    }
   ],
   "source": [
    "print(myself['name'])"
   ]
  },
  {
   "cell_type": "code",
   "execution_count": 9,
   "metadata": {},
   "outputs": [
    {
     "name": "stdout",
     "output_type": "stream",
     "text": [
      "My name is Kostas\n"
     ]
    }
   ],
   "source": [
    "print(\"My name is\", myself['name'])"
   ]
  },
  {
   "cell_type": "markdown",
   "metadata": {},
   "source": [
    "Η σειρά των στοιχείων ορίζεται από ορθογώνιες παρενθέσεις και τα στοιχεία χωρίζονται μεταξύ τους με κόμμα."
   ]
  },
  {
   "cell_type": "code",
   "execution_count": 10,
   "metadata": {},
   "outputs": [
    {
     "name": "stdout",
     "output_type": "stream",
     "text": [
      "18\n"
     ]
    }
   ],
   "source": [
    "cat1_age = 7\n",
    "cat2_age = 9\n",
    "cat3_age = 2\n",
    "\n",
    "print(cat1_age + cat2_age + cat3_age)\n"
   ]
  },
  {
   "cell_type": "markdown",
   "metadata": {},
   "source": [
    "Μια σειρά από στοιχεία\n",
    "Αυτό είναι μια λίστα (σε άλλες γλώσσες προγραμματισμού ονομάζεται ARRAY)\n",
    "\n",
    "Μία σειρά στοιχείων (αριθμών, συμβολοσειρών κλπ) μπορούν να οργανωθούν σε μία δομή η οποία ονομάζεται λίστα. "
   ]
  },
  {
   "cell_type": "code",
   "execution_count": 11,
   "metadata": {},
   "outputs": [
    {
     "name": "stdout",
     "output_type": "stream",
     "text": [
      "[7, 9, 2, 5]\n"
     ]
    }
   ],
   "source": [
    "cat_ages = [7, 9, 2, 5]\n",
    "print(cat_ages)"
   ]
  },
  {
   "cell_type": "code",
   "execution_count": 12,
   "metadata": {},
   "outputs": [
    {
     "name": "stdout",
     "output_type": "stream",
     "text": [
      "23\n"
     ]
    }
   ],
   "source": [
    "print(sum(cat_ages))"
   ]
  },
  {
   "cell_type": "code",
   "execution_count": 13,
   "metadata": {},
   "outputs": [
    {
     "name": "stdout",
     "output_type": "stream",
     "text": [
      "Exoume 4 ilikies\n"
     ]
    }
   ],
   "source": [
    "print(\"Exoume\", len(cat_ages), \"ilikies\")"
   ]
  },
  {
   "cell_type": "markdown",
   "metadata": {},
   "source": [
    "Ο αριθμός των στοιχείων μίας λίστας μπορεί να βρεθεί με χρήση της συνάρτησης len:"
   ]
  },
  {
   "cell_type": "code",
   "execution_count": 14,
   "metadata": {},
   "outputs": [
    {
     "name": "stdout",
     "output_type": "stream",
     "text": [
      "10\n"
     ]
    }
   ],
   "source": [
    "experience = [0, 4, 3, 2, 0, 0, 1, 10, 20, 3]\n",
    "print(len(experience))\n"
   ]
  },
  {
   "cell_type": "markdown",
   "metadata": {},
   "source": [
    "`.count` μετράει τον αριθμό που εμφανίζεται ένας αριθμός στη λίστα\n",
    "`0` πόσες φορές εμφανίζεται το `0`"
   ]
  },
  {
   "cell_type": "code",
   "execution_count": 15,
   "metadata": {},
   "outputs": [
    {
     "name": "stdout",
     "output_type": "stream",
     "text": [
      "3\n"
     ]
    }
   ],
   "source": [
    "print(experience.count(0))"
   ]
  },
  {
   "cell_type": "markdown",
   "metadata": {},
   "source": [
    "`len` είναι function και μπαίνει από έξω  \n",
    "`.count` είναι method και μπαίνει μετά"
   ]
  },
  {
   "cell_type": "code",
   "execution_count": 16,
   "metadata": {},
   "outputs": [
    {
     "name": "stdout",
     "output_type": "stream",
     "text": [
      "Kapoios exei 0 empeirias\n",
      "Kapoios exei 4 empeirias\n",
      "Kapoios exei 3 empeirias\n",
      "Kapoios exei 2 empeirias\n",
      "Kapoios exei 0 empeirias\n",
      "Kapoios exei 0 empeirias\n",
      "Kapoios exei 1 empeirias\n",
      "Kapoios exei 10 empeirias\n",
      "Kapoios exei 20 empeirias\n",
      "Kapoios exei 3 empeirias\n"
     ]
    }
   ],
   "source": [
    "for years in experience:\n",
    "  print(\"Kapoios exei\", years, \"empeirias\")"
   ]
  },
  {
   "cell_type": "code",
   "execution_count": 18,
   "metadata": {},
   "outputs": [
    {
     "name": "stdout",
     "output_type": "stream",
     "text": [
      "['Tom', 'Lila', 'Keli']\n"
     ]
    }
   ],
   "source": [
    "cat1_name = \"Tom\"\n",
    "cat2_name = \"Lila\"\n",
    "cat3_name = \"Keli\"\n",
    "\n",
    "cats = [\"Tom\", \"Lila\", \"Keli\"]\n",
    "print(cats)\n"
   ]
  },
  {
   "cell_type": "markdown",
   "metadata": {},
   "source": [
    "Μπορούμε να ανακτήσουμε ένα από τα στοιχεία της λίστας χρησιμοποιώντας τον δείκτη του. \n",
    "\n",
    "Η δεικτοδότηση είναι ακριβώς όπως στις συμβολοσειρές."
   ]
  },
  {
   "cell_type": "code",
   "execution_count": 19,
   "metadata": {},
   "outputs": [
    {
     "name": "stdout",
     "output_type": "stream",
     "text": [
      "Tom Keli\n"
     ]
    }
   ],
   "source": [
    "print(cats[0], cats[-1])"
   ]
  },
  {
   "cell_type": "markdown",
   "metadata": {},
   "source": [
    "Τεμαχισμός (slicing): Μπορούμε να ανακτήσουμε ένα τμήμα της λίστας χρησιμοποιώντας ένα εύρος δεικτών. \n",
    "    \n",
    "**Το αποτέλεσμα είναι μία νέα λίστα.**"
   ]
  },
  {
   "cell_type": "code",
   "execution_count": 21,
   "metadata": {},
   "outputs": [
    {
     "name": "stdout",
     "output_type": "stream",
     "text": [
      "['Lila', 'Keli']\n",
      "[10, 20, 3]\n"
     ]
    }
   ],
   "source": [
    "print(cats[1:3])\n",
    "print(experience[7:])"
   ]
  },
  {
   "cell_type": "markdown",
   "metadata": {},
   "source": [
    "Ένα **FOR LOOP**\n",
    "\n",
    "Kάνει κάτι σε κάθε στοιχείο της λίστας"
   ]
  },
  {
   "cell_type": "code",
   "execution_count": 22,
   "metadata": {},
   "outputs": [
    {
     "name": "stdout",
     "output_type": "stream",
     "text": [
      "TOM !!!!!\n",
      "LILA !!!!!\n",
      "KELI !!!!!\n"
     ]
    }
   ],
   "source": [
    "for cat in cats:\n",
    "  # τύπωσε κάθε γάτα με ενθουσιασμό\n",
    "  # κάνε τα γράμματα ΚΕΦΑΛΑΙΑ\n",
    "  print(cat.upper(), \"!!!!!\")"
   ]
  },
  {
   "cell_type": "markdown",
   "metadata": {},
   "source": [
    "Αυτός είναι ο χειροκίνητος τρόπος να γίνει ένα loop"
   ]
  },
  {
   "cell_type": "code",
   "execution_count": 24,
   "metadata": {},
   "outputs": [
    {
     "name": "stdout",
     "output_type": "stream",
     "text": [
      "Tom\n",
      "Lila\n",
      "Keli\n"
     ]
    }
   ],
   "source": [
    "cat = cats[0]\n",
    "print(cat)\n",
    "cat = cats[1]\n",
    "print(cat)\n",
    "cat = cats[2]\n",
    "print(cat)"
   ]
  },
  {
   "cell_type": "code",
   "execution_count": 25,
   "metadata": {},
   "outputs": [
    {
     "name": "stdout",
     "output_type": "stream",
     "text": [
      "name\n",
      "age\n",
      "home\n"
     ]
    }
   ],
   "source": [
    "myself = {\n",
    "  'name': 'Kostas',\n",
    "  'age': 48,\n",
    "  'home': 'Athens'\n",
    "}\n",
    "\n",
    "\n",
    "for something in myself:\n",
    "  print(something)\n",
    "\n"
   ]
  },
  {
   "cell_type": "code",
   "execution_count": 26,
   "metadata": {},
   "outputs": [
    {
     "name": "stdout",
     "output_type": "stream",
     "text": [
      "[0, 4, 3, 2, 0, 0, 1, 10, 20, 3, 5]\n"
     ]
    }
   ],
   "source": [
    "experience = [0, 4, 3, 2, 0, 0, 1, 10, 20, 3, 5]\n",
    "print(experience)\n"
   ]
  },
  {
   "cell_type": "code",
   "execution_count": 31,
   "metadata": {},
   "outputs": [
    {
     "name": "stdout",
     "output_type": "stream",
     "text": [
      "11 φοιτητές συνολικά\n"
     ]
    }
   ],
   "source": [
    "# len() μήκος\n",
    "print(len(experience), \"φοιτητές συνολικά\")"
   ]
  },
  {
   "cell_type": "code",
   "execution_count": 30,
   "metadata": {},
   "outputs": [
    {
     "name": "stdout",
     "output_type": "stream",
     "text": [
      "48 χρόνια εμπειρίας\n"
     ]
    }
   ],
   "source": [
    "# sum() σύνολο\n",
    "print(sum(experience), \"χρόνια εμπειρίας\")\n"
   ]
  },
  {
   "cell_type": "code",
   "execution_count": 32,
   "metadata": {},
   "outputs": [
    {
     "name": "stdout",
     "output_type": "stream",
     "text": [
      "20\n"
     ]
    }
   ],
   "source": [
    "# μέγιστο\n",
    "print(max(experience))\n"
   ]
  },
  {
   "cell_type": "code",
   "execution_count": 33,
   "metadata": {},
   "outputs": [
    {
     "name": "stdout",
     "output_type": "stream",
     "text": [
      "0\n"
     ]
    }
   ],
   "source": [
    "# μικρότερο\n",
    "print(min(experience))"
   ]
  },
  {
   "cell_type": "code",
   "execution_count": 34,
   "metadata": {},
   "outputs": [
    {
     "name": "stdout",
     "output_type": "stream",
     "text": [
      "4.363636363636363\n"
     ]
    }
   ],
   "source": [
    "# ή αλλιώς\n",
    "print(sum(experience) / len(experience))"
   ]
  },
  {
   "cell_type": "markdown",
   "metadata": {},
   "source": [
    "Υπάρχουν έτοιμα στατιστικά πακέτα και βιβλιοθήκες"
   ]
  },
  {
   "cell_type": "code",
   "execution_count": 35,
   "metadata": {},
   "outputs": [],
   "source": [
    "import statistics"
   ]
  },
  {
   "cell_type": "markdown",
   "metadata": {},
   "source": [
    "Βρες το μέσο όρο"
   ]
  },
  {
   "cell_type": "code",
   "execution_count": 36,
   "metadata": {},
   "outputs": [
    {
     "name": "stdout",
     "output_type": "stream",
     "text": [
      "4.363636363636363 μέσος όρος εμπειρίας\n"
     ]
    }
   ],
   "source": [
    "exp_mean = statistics.mean(experience)\n",
    "print(exp_mean, \"μέσος όρος εμπειρίας\")"
   ]
  },
  {
   "cell_type": "code",
   "execution_count": 39,
   "metadata": {},
   "outputs": [
    {
     "name": "stdout",
     "output_type": "stream",
     "text": [
      "3 μέση τιμή εμπειρίας\n"
     ]
    }
   ],
   "source": [
    "exp_median = statistics.median(experience)\n",
    "print(exp_median, \"μέση τιμή εμπειρίας\")"
   ]
  },
  {
   "cell_type": "code",
   "execution_count": 38,
   "metadata": {},
   "outputs": [
    {
     "name": "stdout",
     "output_type": "stream",
     "text": [
      "[0, 0, 0, 1, 2, 3, 3, 4, 5, 10, 20]\n"
     ]
    }
   ],
   "source": [
    "print(sorted(experience))"
   ]
  },
  {
   "cell_type": "markdown",
   "metadata": {},
   "source": [
    "Άλλο παράδειγμα"
   ]
  },
  {
   "cell_type": "code",
   "execution_count": 40,
   "metadata": {},
   "outputs": [],
   "source": [
    "student = {'name' : 'Papadopoulos Giannis', 'AM' : '763478673', 'age' : 21}"
   ]
  },
  {
   "cell_type": "code",
   "execution_count": 41,
   "metadata": {},
   "outputs": [
    {
     "data": {
      "text/plain": [
       "{'name': 'Papadopoulos Giannis', 'AM': '763478673', 'age': 21}"
      ]
     },
     "execution_count": 41,
     "metadata": {},
     "output_type": "execute_result"
    }
   ],
   "source": [
    "student"
   ]
  },
  {
   "cell_type": "code",
   "execution_count": 42,
   "metadata": {},
   "outputs": [
    {
     "data": {
      "text/plain": [
       "21"
      ]
     },
     "execution_count": 42,
     "metadata": {},
     "output_type": "execute_result"
    }
   ],
   "source": [
    "student['age']"
   ]
  },
  {
   "cell_type": "code",
   "execution_count": 43,
   "metadata": {},
   "outputs": [
    {
     "data": {
      "text/plain": [
       "'763478673'"
      ]
     },
     "execution_count": 43,
     "metadata": {},
     "output_type": "execute_result"
    }
   ],
   "source": [
    "student['AM']"
   ]
  },
  {
   "cell_type": "code",
   "execution_count": 44,
   "metadata": {},
   "outputs": [],
   "source": [
    "student2 = {'name' : 'Ioannou  Giannis', 'AM' : '5764776', 'age' : 22}"
   ]
  },
  {
   "cell_type": "code",
   "execution_count": 45,
   "metadata": {},
   "outputs": [
    {
     "data": {
      "text/plain": [
       "22"
      ]
     },
     "execution_count": 45,
     "metadata": {},
     "output_type": "execute_result"
    }
   ],
   "source": [
    "student2['age']"
   ]
  },
  {
   "cell_type": "code",
   "execution_count": 46,
   "metadata": {},
   "outputs": [],
   "source": [
    "student3 = {'name' : 'Georgiou  Giannis', 'AM' : '65656575', 'age' : 18}"
   ]
  },
  {
   "cell_type": "code",
   "execution_count": 47,
   "metadata": {},
   "outputs": [],
   "source": [
    "class_datajour = [student, student2, student3]"
   ]
  },
  {
   "cell_type": "code",
   "execution_count": 48,
   "metadata": {},
   "outputs": [
    {
     "name": "stdout",
     "output_type": "stream",
     "text": [
      "Papadopoulos Giannis 21\n",
      "Ioannou  Giannis 22\n",
      "Georgiou  Giannis 18\n"
     ]
    }
   ],
   "source": [
    "for  s in   class_datajour:\n",
    "    print(s['name'], s['age'])"
   ]
  },
  {
   "cell_type": "code",
   "execution_count": 49,
   "metadata": {},
   "outputs": [
    {
     "data": {
      "text/plain": [
       "'Ioannou  Giannis'"
      ]
     },
     "execution_count": 49,
     "metadata": {},
     "output_type": "execute_result"
    }
   ],
   "source": [
    "class_datajour[1]['name']"
   ]
  },
  {
   "cell_type": "markdown",
   "metadata": {},
   "source": [
    "Ακολουθία [Φιμπονάτσι](https://el.wikipedia.org/wiki/%CE%91%CE%BA%CE%BF%CE%BB%CE%BF%CF%85%CE%B8%CE%AF%CE%B1_%CE%A6%CE%B9%CE%BC%CF%80%CE%BF%CE%BD%CE%AC%CF%84%CF%83%CE%B9). \n",
    "\n",
    "0 1 1 2 3 5 8 13 21 34 55"
   ]
  },
  {
   "cell_type": "code",
   "execution_count": 51,
   "metadata": {},
   "outputs": [
    {
     "name": "stdout",
     "output_type": "stream",
     "text": [
      "0\n",
      "1\n",
      "1\n",
      "2\n",
      "3\n",
      "5\n",
      "8\n",
      "13\n",
      "21\n",
      "34\n",
      "55\n",
      "89\n",
      "144\n",
      "233\n",
      "377\n",
      "610\n",
      "987\n",
      "1597\n",
      "2584\n",
      "4181\n",
      "6765\n",
      "10946\n",
      "17711\n",
      "28657\n"
     ]
    }
   ],
   "source": [
    "a = 0 \n",
    "b = 1\n",
    "\n",
    "print(a)\n",
    "print(b)\n",
    "\n",
    "for i in range(0,22):\n",
    "    c = a + b\n",
    "    print(c)\n",
    "    a = b\n",
    "    b = c\n",
    "    "
   ]
  },
  {
   "cell_type": "code",
   "execution_count": 52,
   "metadata": {},
   "outputs": [
    {
     "name": "stdout",
     "output_type": "stream",
     "text": [
      "0\n",
      "1\n",
      "2\n",
      "3\n",
      "4\n"
     ]
    }
   ],
   "source": [
    "for i in range(0,5):\n",
    "    print(i)"
   ]
  },
  {
   "cell_type": "code",
   "execution_count": null,
   "metadata": {},
   "outputs": [],
   "source": []
  },
  {
   "cell_type": "code",
   "execution_count": 1,
   "metadata": {},
   "outputs": [],
   "source": [
    "import pandas as pd\n",
    "import numpy as np \n",
    "from twython import Twython\n",
    "\n",
    "CONSUMER_KEY = \"f7RkCP05ax6m5R75e7NEROblP\"\n",
    "CONSUMER_SECRET = \"zXiRP1rQBy9d2bDuAFpwD98zzkmslML769iY0jhLDjpH88dmfM\"\n",
    "OAUTH_TOKEN = \"994129208233295872-BdzZ761Mi4hxjWK2kRno4Fx3mlOd0wH\"\n",
    "OAUTH_TOKEN_SECRET = \"E3HfihiBifLdCWOaoudr5hbJUdduovpTIFjRyAqC9nGs3\"\n",
    "twitter = Twython(\n",
    "    CONSUMER_KEY, CONSUMER_SECRET,\n",
    "    OAUTH_TOKEN, OAUTH_TOKEN_SECRET)\n"
   ]
  },
  {
   "cell_type": "code",
   "execution_count": 2,
   "metadata": {},
   "outputs": [
    {
     "name": "stdout",
     "output_type": "stream",
     "text": [
      "I Got: 100  tweets\n"
     ]
    }
   ],
   "source": [
    "tweetsL = []\n",
    "try:\n",
    "    user_timeline = twitter.get_user_timeline(screen_name='atsipras',count=100, tweet_mode = 'extended'  )\n",
    "except TwythonError as e:\n",
    "    print(\"Error getting tweets:\", e)\n",
    "print(\"I Got:\", len(user_timeline), \" tweets\")\n",
    "for tweet in user_timeline:\n",
    "    # Add whatever you want from the tweet, here we just add the text\n",
    "    tweetsL.append(tweet)"
   ]
  },
  {
   "cell_type": "code",
   "execution_count": 3,
   "metadata": {},
   "outputs": [
    {
     "name": "stdout",
     "output_type": "stream",
     "text": [
      "I Got: 100  tweets more... Last ID: 1034091744646885375\n",
      "I Got: 100  tweets more... Last ID: 988373954292314111\n",
      "I Got: 100  tweets more... Last ID: 943187740451069951\n",
      "I Got: 100  tweets more... Last ID: 912364483888205823\n",
      "I Got: 100  tweets more... Last ID: 873113795882647551\n",
      "I Got: 100  tweets more... Last ID: 850047531413381119\n",
      "I Got: 100  tweets more... Last ID: 830367282924752895\n",
      "I Got: 100  tweets more... Last ID: 811968621194989569\n",
      "I Got: 100  tweets more... Last ID: 790178282574675967\n",
      "I Got: 100  tweets more... Last ID: 786621839120281599\n",
      "I Got: 100  tweets more... Last ID: 780447455099940864\n",
      "I Got: 100  tweets more... Last ID: 757630274570166271\n",
      "I Got: 100  tweets more... Last ID: 743516997250588671\n",
      "I Got: 100  tweets more... Last ID: 732545432258240513\n",
      "I Got: 100  tweets more... Last ID: 729352719778123778\n",
      "I Got: 100  tweets more... Last ID: 720955162991411200\n",
      "I Got: 100  tweets more... Last ID: 714855565399343110\n",
      "I Got: 100  tweets more... Last ID: 702566406957735935\n",
      "I Got: 100  tweets more... Last ID: 691322822661165055\n",
      "I Got: 100  tweets more... Last ID: 675241754434674687\n",
      "I Got: 100  tweets more... Last ID: 672795399711797247\n",
      "I Got: 100  tweets more... Last ID: 669847144912838655\n",
      "I Got: 100  tweets more... Last ID: 655063613602926592\n",
      "I Got: 100  tweets more... Last ID: 651101917393891327\n",
      "I Got: 100  tweets more... Last ID: 650287015628537856\n",
      "I Got: 100  tweets more... Last ID: 644930429154426879\n",
      "I Got: 100  tweets more... Last ID: 644107949263224831\n",
      "I Got: 100  tweets more... Last ID: 642773101831417855\n",
      "I Got: 100  tweets more... Last ID: 640860997083860992\n",
      "I Got: 100  tweets more... Last ID: 640416295297654783\n",
      "I Got: 100  tweets more... Last ID: 617040597371764735\n",
      "I Got: 1  tweets more... Last ID: 617040456061452287\n",
      "I got : 3201  in total!!!\n"
     ]
    }
   ],
   "source": [
    "# Count could be less than 200, see:\n",
    "# https://dev.twitter.com/discussions/7513\n",
    "while len(user_timeline) != 0: \n",
    "    try:\n",
    "        user_timeline = twitter.get_user_timeline(screen_name='atsipras',count=100,\n",
    "                                                  tweet_mode = 'extended', max_id=user_timeline[len(user_timeline)-1]['id']-1)\n",
    "    except TwythonError as e:\n",
    "        print(\"Error getting tweets:\", e)\n",
    "    if len(user_timeline) > 0:\n",
    "        print(\"I Got:\", len(user_timeline), \" tweets more... Last ID:\", user_timeline[len(user_timeline)-1]['id']-1)\n",
    "    for tweet in user_timeline:\n",
    "        # Add whatever you want from the tweet, here we just add the text\n",
    "        tweetsL.append(tweet)\n",
    "# Number of tweets the user has made\n",
    "print(\"I got :\", len(tweetsL), \" in total!!!\")"
   ]
  },
  {
   "cell_type": "code",
   "execution_count": 4,
   "metadata": {},
   "outputs": [
    {
     "data": {
      "text/plain": [
       "3201"
      ]
     },
     "execution_count": 4,
     "metadata": {},
     "output_type": "execute_result"
    }
   ],
   "source": [
    "len(tweetsL)"
   ]
  },
  {
   "cell_type": "code",
   "execution_count": 6,
   "metadata": {},
   "outputs": [
    {
     "data": {
      "text/plain": [
       "'Η Αθήνα ανήκει στις νέες και στους νέους, στους ανθρώπους που ζουν στις γειτονιές της, ανήκει στους πολλούς. Και ο Νάσος Ηλιόπουλος @iliopoulosnasos είναι ένας από αυτούς! #Αθήνα #athens #apotinarxi #anoixtipoli https://t.co/JWnPW70hR1'"
      ]
     },
     "execution_count": 6,
     "metadata": {},
     "output_type": "execute_result"
    }
   ],
   "source": [
    "tweetsL[0]['full_text']"
   ]
  },
  {
   "cell_type": "code",
   "execution_count": null,
   "metadata": {},
   "outputs": [],
   "source": []
  }
 ],
 "metadata": {
  "kernelspec": {
   "display_name": "Python 3",
   "language": "python",
   "name": "python3"
  },
  "language_info": {
   "codemirror_mode": {
    "name": "ipython",
    "version": 3
   },
   "file_extension": ".py",
   "mimetype": "text/x-python",
   "name": "python",
   "nbconvert_exporter": "python",
   "pygments_lexer": "ipython3",
   "version": "3.6.7"
  }
 },
 "nbformat": 4,
 "nbformat_minor": 2
}
