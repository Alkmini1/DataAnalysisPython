{
 "cells": [
  {
   "cell_type": "markdown",
   "metadata": {
    "collapsed": true
   },
   "source": [
    "## Εισαγωγή στα pandas\n",
    "\n",
    "Σήμερα θα μάθουμε να εισάγουμε, επεξεργαζόμαστε και αποθηκεύουμε πλαίσια δεδομένων, που από εδώ και στο εξής θα τα αποκαλούμε Dataframes και για συντομία df.\n",
    "\n",
    "Για αρχή πρέπει να καλέσουμε τη βιβλιοθήκη pandas για να μπορέσουμε να δουλέψουμε με Dataframes.\n",
    "\n",
    "Ξεκινάμε λοιπόν εισάγωντας ένα αρχείο comma-separated values (CSV).\n",
    "\n"
   ]
  },
  {
   "cell_type": "code",
   "execution_count": null,
   "metadata": {},
   "outputs": [],
   "source": [
    "import pandas as pd"
   ]
  },
  {
   "cell_type": "code",
   "execution_count": null,
   "metadata": {},
   "outputs": [],
   "source": [
    "df = pd.read_csv(\"countries.csv\")"
   ]
  },
  {
   "cell_type": "markdown",
   "metadata": {},
   "source": [
    "Με το .head( ) βλέπουμε τα πρώτα 5 κελιά και με το .tail( ) τα τελευταία. Μπορούμε να αλλάξουμε τον αριθμό των κελιών που εμφανίζονται\n",
    "βάζοντας τον αριθμό που θέλουμε μέσα στις παρενθέσεις. "
   ]
  },
  {
   "cell_type": "code",
   "execution_count": null,
   "metadata": {},
   "outputs": [],
   "source": [
    "df.head()"
   ]
  },
  {
   "cell_type": "code",
   "execution_count": null,
   "metadata": {},
   "outputs": [],
   "source": [
    "df.head(8)"
   ]
  },
  {
   "cell_type": "markdown",
   "metadata": {},
   "source": [
    "Η πρώτη στήλη στα αριστερά λέγεται index"
   ]
  },
  {
   "cell_type": "code",
   "execution_count": null,
   "metadata": {},
   "outputs": [],
   "source": [
    "df.tail()"
   ]
  },
  {
   "cell_type": "markdown",
   "metadata": {},
   "source": [
    "Πάμε να δούμε τι στήλες έχουμε στα δεδομένα μας."
   ]
  },
  {
   "cell_type": "code",
   "execution_count": null,
   "metadata": {},
   "outputs": [],
   "source": [
    "df.columns"
   ]
  },
  {
   "cell_type": "markdown",
   "metadata": {},
   "source": [
    "Ας δούμε τώρα και τι τύπος είναι η κάθε στήλη."
   ]
  },
  {
   "cell_type": "code",
   "execution_count": null,
   "metadata": {},
   "outputs": [],
   "source": [
    "df.dtypes \n",
    "#object σημαίνει συμβολοσειρά"
   ]
  },
  {
   "cell_type": "markdown",
   "metadata": {},
   "source": [
    "Ας τα ταξινομήσουμε σύμφωνα με τον πληθυσμό κάθε χώρας."
   ]
  },
  {
   "cell_type": "code",
   "execution_count": null,
   "metadata": {},
   "outputs": [],
   "source": [
    "df.sort_values(by='population', ascending = False)  "
   ]
  },
  {
   "cell_type": "code",
   "execution_count": null,
   "metadata": {},
   "outputs": [],
   "source": [
    "df[\"population\"]"
   ]
  },
  {
   "cell_type": "code",
   "execution_count": null,
   "metadata": {},
   "outputs": [],
   "source": [
    "df[\"population\"].median()"
   ]
  },
  {
   "cell_type": "code",
   "execution_count": null,
   "metadata": {},
   "outputs": [],
   "source": [
    "df[\"population\"].sum()"
   ]
  },
  {
   "cell_type": "code",
   "execution_count": null,
   "metadata": {},
   "outputs": [],
   "source": [
    "df[\"population\"].std()"
   ]
  },
  {
   "cell_type": "code",
   "execution_count": null,
   "metadata": {},
   "outputs": [],
   "source": [
    "df[\"population\"].max()"
   ]
  },
  {
   "cell_type": "markdown",
   "metadata": {},
   "source": [
    "Περιγραφή όλων των στηλών"
   ]
  },
  {
   "cell_type": "code",
   "execution_count": null,
   "metadata": {},
   "outputs": [],
   "source": [
    "df[\"population\"].describe() "
   ]
  },
  {
   "cell_type": "markdown",
   "metadata": {},
   "source": [
    "Δεν φαίνονται και τόσο ξεκάθαρα, ας τα δούμε σαν ακέραιους αριθμούς!"
   ]
  },
  {
   "cell_type": "code",
   "execution_count": null,
   "metadata": {},
   "outputs": [],
   "source": [
    "df[\"population\"].describe().astype(int) "
   ]
  },
  {
   "cell_type": "code",
   "execution_count": null,
   "metadata": {},
   "outputs": [],
   "source": [
    "df['continent'].value_counts()"
   ]
  },
  {
   "cell_type": "code",
   "execution_count": null,
   "metadata": {},
   "outputs": [],
   "source": [
    "df['continent'].describe()"
   ]
  },
  {
   "cell_type": "markdown",
   "metadata": {},
   "source": [
    "Πάμε να φτιάξουμε το πρώτο μας γράφημα!"
   ]
  },
  {
   "cell_type": "code",
   "execution_count": null,
   "metadata": {},
   "outputs": [],
   "source": [
    "df['continent'].value_counts().plot "
   ]
  },
  {
   "cell_type": "markdown",
   "metadata": {},
   "source": [
    "Κάτι προσπαθεί να κάνει, αλλά φαίνεται ότι κάτι λείπει..."
   ]
  },
  {
   "cell_type": "markdown",
   "metadata": {
    "collapsed": true
   },
   "source": [
    "Χρειαζόμαστε μια βιβλιοθήκη γραφικών. \n",
    "Ας φέρουμε την matplotlib \n",
    "Βάζοντας μπορστά το % αναθέτουμε την βιβλιοθήκη από δω και κάτω. "
   ]
  },
  {
   "cell_type": "code",
   "execution_count": null,
   "metadata": {},
   "outputs": [],
   "source": [
    "%matplotlib inline"
   ]
  },
  {
   "cell_type": "code",
   "execution_count": null,
   "metadata": {},
   "outputs": [],
   "source": [
    "df['continent'].value_counts().plot()"
   ]
  },
  {
   "cell_type": "code",
   "execution_count": null,
   "metadata": {},
   "outputs": [],
   "source": [
    "df['continent'].value_counts().plot(kind='bar')"
   ]
  },
  {
   "cell_type": "code",
   "execution_count": null,
   "metadata": {},
   "outputs": [],
   "source": [
    "df['continent'].value_counts().plot(kind='barh') #barh είναι το οριζόντιο γράφημα"
   ]
  },
  {
   "cell_type": "code",
   "execution_count": null,
   "metadata": {},
   "outputs": [],
   "source": [
    "df.plot(kind='scatter', x='gdp_per_capita', y='life_expectancy')"
   ]
  },
  {
   "cell_type": "markdown",
   "metadata": {},
   "source": [
    "Ο τρόπος που αναλύουμε τα δεδομένα είναι ο εξής:\n",
    "Πρώτα κάνουμε μια υπόθεση και μετά προχωρούμε ρωτώντας τα δεδομένα μας τις σχετικές ερωτήσεις. Δεν κάνουμε απλά αναζήτηση των δεδομένων!\n",
    "Ας ρωτήσουμε πχ. ποια είναι η μεγαλύτερη χώρα, ποια έχει το μεγαλύτερο ΑΕΠ (Ακαθάριστο Εγχώριο Προϊόν (Gross domestic product - GDP) \n",
    "\n",
    "Τι είναι ? \n",
    "- Ακαθάριστο Εγχώριο Προϊόν είναι το σύνολο των προϊόντων, υλικών και άυλων, που παράχθηκαν μέσα στην επικράτεια μιας χώρας σε διάστημα ενός έτους, εκφρασμένο σε χρηματικές μονάδες, ακόμα και αν μέρος αυτού παράχθηκε από παραγωγικές μονάδες που ανήκουν σε κατοίκους του εξωτερικού."
   ]
  },
  {
   "cell_type": "markdown",
   "metadata": {
    "collapsed": true
   },
   "source": [
    "## Πρέπει να βρούμε:\n",
    "\n",
    "με ποια στήλη να κάνουμε το γκρουπάρισμα (group by)\n",
    "\n",
    "από ποια στήλη θέλουμε πληροφορίες\n",
    "\n",
    "τι είδους πληροφορίες θέλουμε από αυτή την στήλη\n",
    "\n",
    "*Οι παρενθέσεις είναι για το groupby και οι αγκύλες για την στήλη από την οποία θέλουμε πληροφορίες, το groupby μπαίνει στην αρχή για να φιλτράρει "
   ]
  },
  {
   "cell_type": "code",
   "execution_count": null,
   "metadata": {},
   "outputs": [],
   "source": [
    "df.groupby(\"continent\")[\"gdp_per_capita\"].mean()"
   ]
  },
  {
   "cell_type": "code",
   "execution_count": null,
   "metadata": {},
   "outputs": [],
   "source": [
    "#Πόσες γραμμές και πόσες στήλες έχουμε\n",
    "df.shape"
   ]
  },
  {
   "cell_type": "code",
   "execution_count": null,
   "metadata": {},
   "outputs": [],
   "source": [
    "patient = {'temperature': 108, 'condition': 'severe'}"
   ]
  },
  {
   "cell_type": "markdown",
   "metadata": {},
   "source": [
    "Ο τύπος boolean ορίζεται από το πεδίο τιμών {true, false}.\n",
    "\n",
    "Οι παρακάτω τελεστές παράγουν αποτέλεσμα τύπου boolean:\n"
   ]
  },
  {
   "cell_type": "code",
   "execution_count": null,
   "metadata": {},
   "outputs": [],
   "source": [
    "#=   Ισότητα\n",
    "#<> Διάφορο\n",
    "#<   Μικρότερο\n",
    "#>   Μεγαλύτερο\n",
    "#<= Μικρότερο ή ίσο\n",
    "#>= Μεγαλύτερο ή ίσο"
   ]
  },
  {
   "cell_type": "code",
   "execution_count": null,
   "metadata": {},
   "outputs": [],
   "source": [
    "patient['temperature'] > 104"
   ]
  },
  {
   "cell_type": "markdown",
   "metadata": {},
   "source": [
    "Πώς ρωτάμε το dataframe, είναι η ήπειρος σου η Ασία?"
   ]
  },
  {
   "cell_type": "code",
   "execution_count": null,
   "metadata": {},
   "outputs": [],
   "source": [
    "df['continent'] == 'Asia'"
   ]
  },
  {
   "cell_type": "markdown",
   "metadata": {},
   "source": [
    "Όταν δείτε απαντήσεις με *True False* τότε έχετε ξεχάσει να βάλετε αγκύλες!"
   ]
  },
  {
   "cell_type": "code",
   "execution_count": null,
   "metadata": {},
   "outputs": [],
   "source": [
    "#df [ ] και μέσα το condition\n",
    "df[df['continent'] == 'Asia']"
   ]
  },
  {
   "cell_type": "code",
   "execution_count": null,
   "metadata": {},
   "outputs": [],
   "source": [
    "df['gdp_per_capita'].mean()"
   ]
  },
  {
   "cell_type": "markdown",
   "metadata": {},
   "source": [
    "Είναι το ΑΕΠ μεγαλύτερο από το μέσο όρο? \n",
    "Θέλω όλα τα κελιά στα οποία είναι το ΑΕΠ μεγαλύτερο του μέσου όρου και τα θέλω σε μορφή dataframe"
   ]
  },
  {
   "cell_type": "code",
   "execution_count": null,
   "metadata": {},
   "outputs": [],
   "source": [
    "df[df['gdp_per_capita'] > df['gdp_per_capita'].mean()]"
   ]
  },
  {
   "cell_type": "code",
   "execution_count": null,
   "metadata": {},
   "outputs": [],
   "source": [
    "df[(df['continent'] == 'Asia') & (df['gdp_per_capita'] > df['gdp_per_capita'].mean())]"
   ]
  },
  {
   "cell_type": "code",
   "execution_count": null,
   "metadata": {},
   "outputs": [],
   "source": [
    "# σε εκατομμύρια \n",
    "df['population'] / 1000000"
   ]
  },
  {
   "cell_type": "markdown",
   "metadata": {},
   "source": [
    "Θέλουμε να σώσουμε το αποτέλεσμα σε ένα νέο dataframe και να είναι σε εκατομμύρια"
   ]
  },
  {
   "cell_type": "code",
   "execution_count": null,
   "metadata": {},
   "outputs": [],
   "source": [
    "df['millions'] = df['population'] /1000000\n",
    "df.head()"
   ]
  },
  {
   "cell_type": "markdown",
   "metadata": {},
   "source": [
    "Ας κάνουμε μια νέα στήλη με το ΑΕΠ, αλλά όχι κατά κεφαλήν "
   ]
  },
  {
   "cell_type": "code",
   "execution_count": null,
   "metadata": {},
   "outputs": [],
   "source": [
    "df['gdp_per_capita'] * df['population']\n",
    "df.head()"
   ]
  },
  {
   "cell_type": "markdown",
   "metadata": {},
   "source": [
    "'Οπως βλέπετε μπορούμε να εκτελέσουμε εντολές και χωρίς τα \"\" εκτός και αν έχουν κενά τα ονόματα των στηλών! "
   ]
  },
  {
   "cell_type": "code",
   "execution_count": null,
   "metadata": {},
   "outputs": [],
   "source": [
    "df.gdp_per_capita * df.population "
   ]
  },
  {
   "cell_type": "code",
   "execution_count": null,
   "metadata": {},
   "outputs": [],
   "source": [
    "df[['continent', 'population']]"
   ]
  },
  {
   "cell_type": "code",
   "execution_count": null,
   "metadata": {},
   "outputs": [],
   "source": []
  }
 ],
 "metadata": {
  "kernelspec": {
   "display_name": "Python 3",
   "language": "python",
   "name": "python3"
  },
  "language_info": {
   "codemirror_mode": {
    "name": "ipython",
    "version": 3
   },
   "file_extension": ".py",
   "mimetype": "text/x-python",
   "name": "python",
   "nbconvert_exporter": "python",
   "pygments_lexer": "ipython3",
   "version": "3.6.7"
  }
 },
 "nbformat": 4,
 "nbformat_minor": 2
}
